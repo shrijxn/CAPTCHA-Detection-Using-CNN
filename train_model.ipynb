{
 "cells": [
  {
   "cell_type": "code",
   "execution_count": 6,
   "id": "f258b11b",
   "metadata": {},
   "outputs": [],
   "source": [
    "import cv2\n",
    "import pickle\n",
    "import os.path\n",
    "import numpy as np\n",
    "from imutils import paths\n",
    "from sklearn.preprocessing import LabelBinarizer\n",
    "from sklearn.model_selection import train_test_split\n",
    "from keras.models import Sequential\n",
    "from keras.layers.convolutional import Conv2D, MaxPooling2D\n",
    "from keras.layers.core import Flatten, Dense\n",
    "from helpers import resize_to_fit"
   ]
  },
  {
   "cell_type": "code",
   "execution_count": 7,
   "id": "c2c1740e",
   "metadata": {},
   "outputs": [],
   "source": [
    "LETTER_IMAGES_FOLDER = \"extracted_letter_images\"\n",
    "MODEL_FILENAME = \"captcha_model.hdf5\"\n",
    "MODEL_LABELS_FILENAME = \"model_labels.dat\""
   ]
  },
  {
   "cell_type": "code",
   "execution_count": 8,
   "id": "14146850",
   "metadata": {},
   "outputs": [],
   "source": [
    "# initialize the data and labels\n",
    "data = []\n",
    "labels = []\n",
    "\n",
    "# loop over the input images\n",
    "for image_file in paths.list_images(LETTER_IMAGES_FOLDER):\n",
    "    # Load the image and convert it to grayscale\n",
    "    image = cv2.imread(image_file)\n",
    "    image = cv2.cvtColor(image, cv2.COLOR_BGR2GRAY)\n",
    "\n",
    "    # Resize the letter so it fits in a 20x20 pixel box\n",
    "    image = resize_to_fit(image, 20, 20)\n",
    "\n",
    "    # Add a third channel dimension to the image to make Keras happy\n",
    "    image = np.expand_dims(image, axis=2)\n",
    "\n",
    "    # Grab the name of the letter based on the folder it was in\n",
    "    label = image_file.split(os.path.sep)[-2]\n",
    "\n",
    "    # Add the letter image and it's label to our training data\n",
    "    data.append(image)\n",
    "    labels.append(label)\n"
   ]
  },
  {
   "cell_type": "code",
   "execution_count": 9,
   "id": "bc071217",
   "metadata": {},
   "outputs": [],
   "source": [
    "# scale the raw pixel intensities to the range [0, 1] (this improves training)\n",
    "data = np.array(data, dtype=\"float\") / 255.0\n",
    "labels = np.array(labels)"
   ]
  },
  {
   "cell_type": "code",
   "execution_count": 10,
   "id": "448e05de",
   "metadata": {},
   "outputs": [],
   "source": [
    "# Split the training data into separate train and test sets\n",
    "(X_train, X_test, Y_train, Y_test) = train_test_split(data, labels, test_size=0.25, random_state=0)"
   ]
  },
  {
   "cell_type": "code",
   "execution_count": 11,
   "id": "5c5f4b04",
   "metadata": {},
   "outputs": [],
   "source": [
    "# Convert the labels (letters) into one-hot encodings that Keras can work with\n",
    "lb = LabelBinarizer().fit(Y_train)\n",
    "Y_train = lb.transform(Y_train)\n",
    "Y_test = lb.transform(Y_test)"
   ]
  },
  {
   "cell_type": "code",
   "execution_count": 12,
   "id": "888451fc",
   "metadata": {},
   "outputs": [],
   "source": [
    "# Save the mapping from labels to one-hot encodings.\n",
    "# We'll need this later when we use the model to decode what it's predictions mean\n",
    "with open(MODEL_LABELS_FILENAME, \"wb\") as f:\n",
    "    pickle.dump(lb, f)"
   ]
  },
  {
   "cell_type": "code",
   "execution_count": 13,
   "id": "98729542",
   "metadata": {},
   "outputs": [],
   "source": [
    "model = Sequential()\n",
    "\n",
    "# First convolutional layer with max pooling\n",
    "model.add(Conv2D(20, (5, 5), padding=\"same\", input_shape=(20, 20, 1), activation=\"relu\"))\n",
    "model.add(MaxPooling2D(pool_size=(2, 2), strides=(2, 2)))\n",
    "\n",
    "# Second convolutional layer with max pooling\n",
    "model.add(Conv2D(50, (5, 5), padding=\"same\", activation=\"relu\"))\n",
    "model.add(MaxPooling2D(pool_size=(2, 2), strides=(2, 2)))\n",
    "\n",
    "# Hidden layer with 500 nodes\n",
    "model.add(Flatten())\n",
    "model.add(Dense(500, activation=\"relu\"))\n",
    "\n",
    "# Output layer with 32 nodes (one for each possible letter/number we predict)\n",
    "model.add(Dense(32, activation=\"softmax\"))\n",
    "\n",
    "# Ask Keras to build the TensorFlow model behind the scenes\n",
    "model.compile(loss=\"categorical_crossentropy\", optimizer=\"adam\", metrics=[\"accuracy\"])"
   ]
  },
  {
   "cell_type": "code",
   "execution_count": 14,
   "id": "41574c22",
   "metadata": {},
   "outputs": [
    {
     "name": "stdout",
     "output_type": "stream",
     "text": [
      "Epoch 1/10\n",
      "909/909 [==============================] - 17s 18ms/step - loss: 0.2601 - accuracy: 0.9367 - val_loss: 0.0273 - val_accuracy: 0.9917\n",
      "Epoch 2/10\n",
      "909/909 [==============================] - 17s 18ms/step - loss: 0.0127 - accuracy: 0.9967 - val_loss: 0.0140 - val_accuracy: 0.9958\n",
      "Epoch 3/10\n",
      "909/909 [==============================] - 17s 19ms/step - loss: 0.0071 - accuracy: 0.9981 - val_loss: 0.0166 - val_accuracy: 0.9929\n",
      "Epoch 4/10\n",
      "909/909 [==============================] - 18s 19ms/step - loss: 0.0049 - accuracy: 0.9986 - val_loss: 0.0094 - val_accuracy: 0.9976\n",
      "Epoch 5/10\n",
      "909/909 [==============================] - 17s 19ms/step - loss: 0.0048 - accuracy: 0.9985 - val_loss: 0.0098 - val_accuracy: 0.9979\n",
      "Epoch 6/10\n",
      "909/909 [==============================] - 17s 19ms/step - loss: 0.0021 - accuracy: 0.9994 - val_loss: 0.0111 - val_accuracy: 0.9982\n",
      "Epoch 7/10\n",
      "909/909 [==============================] - 18s 20ms/step - loss: 0.0034 - accuracy: 0.9989 - val_loss: 0.0094 - val_accuracy: 0.9977\n",
      "Epoch 8/10\n",
      "909/909 [==============================] - 16s 18ms/step - loss: 0.0027 - accuracy: 0.9994 - val_loss: 0.0137 - val_accuracy: 0.9960\n",
      "Epoch 9/10\n",
      "909/909 [==============================] - 16s 18ms/step - loss: 0.0033 - accuracy: 0.9990 - val_loss: 0.0064 - val_accuracy: 0.9979\n",
      "Epoch 10/10\n",
      "909/909 [==============================] - 17s 18ms/step - loss: 0.0029 - accuracy: 0.9992 - val_loss: 0.0053 - val_accuracy: 0.9988\n"
     ]
    },
    {
     "data": {
      "text/plain": [
       "<keras.callbacks.History at 0x113a6de3b20>"
      ]
     },
     "execution_count": 14,
     "metadata": {},
     "output_type": "execute_result"
    }
   ],
   "source": [
    "# Train the neural network\n",
    "model.fit(X_train, Y_train, validation_data=(X_test, Y_test), batch_size=32, epochs=10, verbose=1)\n"
   ]
  },
  {
   "cell_type": "code",
   "execution_count": 16,
   "id": "a5b873b0",
   "metadata": {},
   "outputs": [],
   "source": [
    "# Save the trained model to disk\n",
    "model.save(MODEL_FILENAME)\n"
   ]
  },
  {
   "cell_type": "code",
   "execution_count": null,
   "id": "64475d45",
   "metadata": {},
   "outputs": [],
   "source": []
  }
 ],
 "metadata": {
  "kernelspec": {
   "display_name": "Python 3 (ipykernel)",
   "language": "python",
   "name": "python3"
  },
  "language_info": {
   "codemirror_mode": {
    "name": "ipython",
    "version": 3
   },
   "file_extension": ".py",
   "mimetype": "text/x-python",
   "name": "python",
   "nbconvert_exporter": "python",
   "pygments_lexer": "ipython3",
   "version": "3.10.9"
  }
 },
 "nbformat": 4,
 "nbformat_minor": 5
}
